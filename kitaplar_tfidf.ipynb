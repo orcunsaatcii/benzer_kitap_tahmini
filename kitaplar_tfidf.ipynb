{
  "nbformat": 4,
  "nbformat_minor": 0,
  "metadata": {
    "colab": {
      "provenance": [],
      "include_colab_link": true
    },
    "kernelspec": {
      "name": "python3",
      "display_name": "Python 3"
    },
    "language_info": {
      "name": "python"
    }
  },
  "cells": [
    {
      "cell_type": "markdown",
      "metadata": {
        "id": "view-in-github",
        "colab_type": "text"
      },
      "source": [
        "<a href=\"https://colab.research.google.com/github/orcunsaatcii/benzer_kitap_tahmini/blob/main/kitaplar_tfidf.ipynb\" target=\"_parent\"><img src=\"https://colab.research.google.com/assets/colab-badge.svg\" alt=\"Open In Colab\"/></a>"
      ]
    },
    {
      "cell_type": "code",
      "source": [
        "!pip install simplemma"
      ],
      "metadata": {
        "colab": {
          "base_uri": "https://localhost:8080/"
        },
        "id": "0jrtQMqtQR8C",
        "outputId": "be9bb265-7a2f-4274-b7ee-33b618e53908"
      },
      "execution_count": null,
      "outputs": [
        {
          "output_type": "stream",
          "name": "stdout",
          "text": [
            "Collecting simplemma\n",
            "  Downloading simplemma-0.9.1-py3-none-any.whl (75.5 MB)\n",
            "\u001b[2K     \u001b[90m━━━━━━━━━━━━━━━━━━━━━━━━━━━━━━━━━━━━━━━━\u001b[0m \u001b[32m75.5/75.5 MB\u001b[0m \u001b[31m7.9 MB/s\u001b[0m eta \u001b[36m0:00:00\u001b[0m\n",
            "\u001b[?25hInstalling collected packages: simplemma\n",
            "Successfully installed simplemma-0.9.1\n"
          ]
        }
      ]
    },
    {
      "cell_type": "code",
      "source": [
        "from simplemma import text_lemmatizer\n",
        "import pandas as pd\n",
        "import numpy as np\n",
        "import ast\n",
        "import re"
      ],
      "metadata": {
        "id": "8hTZ0TvtQR-z"
      },
      "execution_count": null,
      "outputs": []
    },
    {
      "cell_type": "code",
      "source": [
        "\n",
        "def clean_text(text):\n",
        "    text = text.replace(\"Â\", \"a\")\n",
        "    text = text.replace(\"â\", \"a\")\n",
        "    text = text.replace(\"î\", \"i\")\n",
        "    text = text.replace(\"Î\", \"ı\")\n",
        "    text = text.replace(\"İ\", \"i\")\n",
        "    text = text.replace(\"I\", \"ı\")\n",
        "    text = text.replace(u\"\\u00A0\", \" \")\n",
        "    text = text.replace(\"|\", \" \")\n",
        "\n",
        "    text = re.sub(r\"@[A-Za-z0-9]+\", \" \", text)\n",
        "    text = re.sub(r\"(.)\\1+\", r\"\\1\\1\", text)\n",
        "    text = re.sub(r\"https?:\\/\\/\\S+\", \" \", text)\n",
        "    text = re.sub(r\"http?:\\/\\/\\S+\", \" \", text)\n",
        "    text = re.sub(r\"\\n\", \" \", text)\n",
        "    text = re.sub(r\"#(\\w+)\", \" \", text)\n",
        "    text = re.sub(r\"^\\x00-\\x7F]+\", \" \", text)\n",
        "    text = re.sub(r\"[^A-Za-zâîığüşöçİĞÜŞÖÇ]+\", \" \", text)\n",
        "    text = re.sub(r\"((https://[^\\s]+))\", \" \", text)\n",
        "    text = \" \".join(text.lower().strip().split())\n",
        "\n",
        "    return \" \".join(text_lemmatizer(text, lang=\"tr\"))"
      ],
      "metadata": {
        "id": "IaKqrj3GQSBi"
      },
      "execution_count": null,
      "outputs": []
    },
    {
      "cell_type": "code",
      "source": [
        "\n",
        "with open(\"books.txt\", 'r', encoding=\"utf-8\") as dosya:\n",
        "\n",
        "    kitap_adlari_listesi = dosya.readlines()"
      ],
      "metadata": {
        "id": "84kw3rDfQSDy"
      },
      "execution_count": null,
      "outputs": []
    },
    {
      "cell_type": "code",
      "source": [
        "\n",
        "\n",
        "\n",
        "with open(\"plots.txt\", 'r', encoding=\"utf-8\") as dosya:\n",
        "    # Dosyadaki her satiri okuma ve listeye ekleme\n",
        "    kitap_ozetleri_listesi = dosya.readlines()"
      ],
      "metadata": {
        "id": "uA3TYMcRQSGU"
      },
      "execution_count": null,
      "outputs": []
    },
    {
      "cell_type": "code",
      "source": [
        "data = {\n",
        "    \"kitap_adi\": kitap_adlari_listesi,\n",
        "    \"ozet\": kitap_ozetleri_listesi\n",
        "}\n",
        "\n",
        "indexes = [range(1,len(kitap_adlari_listesi)+1)]\n",
        "\n",
        "df = pd.DataFrame(data=data)"
      ],
      "metadata": {
        "id": "9sT3mJPYQSJC"
      },
      "execution_count": null,
      "outputs": []
    },
    {
      "cell_type": "code",
      "source": [
        "df.head()"
      ],
      "metadata": {
        "colab": {
          "base_uri": "https://localhost:8080/",
          "height": 206
        },
        "id": "wFdOpYnJQSLC",
        "outputId": "d950eef4-de93-47d0-88b5-06c1639d9e57"
      },
      "execution_count": null,
      "outputs": [
        {
          "output_type": "execute_result",
          "data": {
            "text/plain": [
              "                   kitap_adi  \\\n",
              "0  1. Kürk Mantolu Madonna\\n   \n",
              "1       2. Şeker Portakalı\\n   \n",
              "2       4. Hayvan Çiftliği\\n   \n",
              "3               5. Satranç\\n   \n",
              "4               6. Simyacı\\n   \n",
              "\n",
              "                                                ozet  \n",
              "0  \"Her gün, daima öğleden sonra oraya gidiyor, k...  \n",
              "1  Yazarlıkta karar kılıncaya kadar, boks antrenö...  \n",
              "2  İngiliz yazar George Orwell (1903-1950), ülkem...  \n",
              "3  Satranç sonsuz eski, ama aynı zamanda sonrasız...  \n",
              "4  Simyacı, dünyaca ünlü Brezilyalı yazar Paulo C...  "
            ],
            "text/html": [
              "\n",
              "  <div id=\"df-1ba1829f-a1d9-4980-aeab-e8ce9ee4fb85\" class=\"colab-df-container\">\n",
              "    <div>\n",
              "<style scoped>\n",
              "    .dataframe tbody tr th:only-of-type {\n",
              "        vertical-align: middle;\n",
              "    }\n",
              "\n",
              "    .dataframe tbody tr th {\n",
              "        vertical-align: top;\n",
              "    }\n",
              "\n",
              "    .dataframe thead th {\n",
              "        text-align: right;\n",
              "    }\n",
              "</style>\n",
              "<table border=\"1\" class=\"dataframe\">\n",
              "  <thead>\n",
              "    <tr style=\"text-align: right;\">\n",
              "      <th></th>\n",
              "      <th>kitap_adi</th>\n",
              "      <th>ozet</th>\n",
              "    </tr>\n",
              "  </thead>\n",
              "  <tbody>\n",
              "    <tr>\n",
              "      <th>0</th>\n",
              "      <td>1. Kürk Mantolu Madonna\\n</td>\n",
              "      <td>\"Her gün, daima öğleden sonra oraya gidiyor, k...</td>\n",
              "    </tr>\n",
              "    <tr>\n",
              "      <th>1</th>\n",
              "      <td>2. Şeker Portakalı\\n</td>\n",
              "      <td>Yazarlıkta karar kılıncaya kadar, boks antrenö...</td>\n",
              "    </tr>\n",
              "    <tr>\n",
              "      <th>2</th>\n",
              "      <td>4. Hayvan Çiftliği\\n</td>\n",
              "      <td>İngiliz yazar George Orwell (1903-1950), ülkem...</td>\n",
              "    </tr>\n",
              "    <tr>\n",
              "      <th>3</th>\n",
              "      <td>5. Satranç\\n</td>\n",
              "      <td>Satranç sonsuz eski, ama aynı zamanda sonrasız...</td>\n",
              "    </tr>\n",
              "    <tr>\n",
              "      <th>4</th>\n",
              "      <td>6. Simyacı\\n</td>\n",
              "      <td>Simyacı, dünyaca ünlü Brezilyalı yazar Paulo C...</td>\n",
              "    </tr>\n",
              "  </tbody>\n",
              "</table>\n",
              "</div>\n",
              "    <div class=\"colab-df-buttons\">\n",
              "\n",
              "  <div class=\"colab-df-container\">\n",
              "    <button class=\"colab-df-convert\" onclick=\"convertToInteractive('df-1ba1829f-a1d9-4980-aeab-e8ce9ee4fb85')\"\n",
              "            title=\"Convert this dataframe to an interactive table.\"\n",
              "            style=\"display:none;\">\n",
              "\n",
              "  <svg xmlns=\"http://www.w3.org/2000/svg\" height=\"24px\" viewBox=\"0 -960 960 960\">\n",
              "    <path d=\"M120-120v-720h720v720H120Zm60-500h600v-160H180v160Zm220 220h160v-160H400v160Zm0 220h160v-160H400v160ZM180-400h160v-160H180v160Zm440 0h160v-160H620v160ZM180-180h160v-160H180v160Zm440 0h160v-160H620v160Z\"/>\n",
              "  </svg>\n",
              "    </button>\n",
              "\n",
              "  <style>\n",
              "    .colab-df-container {\n",
              "      display:flex;\n",
              "      gap: 12px;\n",
              "    }\n",
              "\n",
              "    .colab-df-convert {\n",
              "      background-color: #E8F0FE;\n",
              "      border: none;\n",
              "      border-radius: 50%;\n",
              "      cursor: pointer;\n",
              "      display: none;\n",
              "      fill: #1967D2;\n",
              "      height: 32px;\n",
              "      padding: 0 0 0 0;\n",
              "      width: 32px;\n",
              "    }\n",
              "\n",
              "    .colab-df-convert:hover {\n",
              "      background-color: #E2EBFA;\n",
              "      box-shadow: 0px 1px 2px rgba(60, 64, 67, 0.3), 0px 1px 3px 1px rgba(60, 64, 67, 0.15);\n",
              "      fill: #174EA6;\n",
              "    }\n",
              "\n",
              "    .colab-df-buttons div {\n",
              "      margin-bottom: 4px;\n",
              "    }\n",
              "\n",
              "    [theme=dark] .colab-df-convert {\n",
              "      background-color: #3B4455;\n",
              "      fill: #D2E3FC;\n",
              "    }\n",
              "\n",
              "    [theme=dark] .colab-df-convert:hover {\n",
              "      background-color: #434B5C;\n",
              "      box-shadow: 0px 1px 3px 1px rgba(0, 0, 0, 0.15);\n",
              "      filter: drop-shadow(0px 1px 2px rgba(0, 0, 0, 0.3));\n",
              "      fill: #FFFFFF;\n",
              "    }\n",
              "  </style>\n",
              "\n",
              "    <script>\n",
              "      const buttonEl =\n",
              "        document.querySelector('#df-1ba1829f-a1d9-4980-aeab-e8ce9ee4fb85 button.colab-df-convert');\n",
              "      buttonEl.style.display =\n",
              "        google.colab.kernel.accessAllowed ? 'block' : 'none';\n",
              "\n",
              "      async function convertToInteractive(key) {\n",
              "        const element = document.querySelector('#df-1ba1829f-a1d9-4980-aeab-e8ce9ee4fb85');\n",
              "        const dataTable =\n",
              "          await google.colab.kernel.invokeFunction('convertToInteractive',\n",
              "                                                    [key], {});\n",
              "        if (!dataTable) return;\n",
              "\n",
              "        const docLinkHtml = 'Like what you see? Visit the ' +\n",
              "          '<a target=\"_blank\" href=https://colab.research.google.com/notebooks/data_table.ipynb>data table notebook</a>'\n",
              "          + ' to learn more about interactive tables.';\n",
              "        element.innerHTML = '';\n",
              "        dataTable['output_type'] = 'display_data';\n",
              "        await google.colab.output.renderOutput(dataTable, element);\n",
              "        const docLink = document.createElement('div');\n",
              "        docLink.innerHTML = docLinkHtml;\n",
              "        element.appendChild(docLink);\n",
              "      }\n",
              "    </script>\n",
              "  </div>\n",
              "\n",
              "\n",
              "<div id=\"df-ef326844-3bce-4002-8de3-0dec252aff67\">\n",
              "  <button class=\"colab-df-quickchart\" onclick=\"quickchart('df-ef326844-3bce-4002-8de3-0dec252aff67')\"\n",
              "            title=\"Suggest charts\"\n",
              "            style=\"display:none;\">\n",
              "\n",
              "<svg xmlns=\"http://www.w3.org/2000/svg\" height=\"24px\"viewBox=\"0 0 24 24\"\n",
              "     width=\"24px\">\n",
              "    <g>\n",
              "        <path d=\"M19 3H5c-1.1 0-2 .9-2 2v14c0 1.1.9 2 2 2h14c1.1 0 2-.9 2-2V5c0-1.1-.9-2-2-2zM9 17H7v-7h2v7zm4 0h-2V7h2v10zm4 0h-2v-4h2v4z\"/>\n",
              "    </g>\n",
              "</svg>\n",
              "  </button>\n",
              "\n",
              "<style>\n",
              "  .colab-df-quickchart {\n",
              "      --bg-color: #E8F0FE;\n",
              "      --fill-color: #1967D2;\n",
              "      --hover-bg-color: #E2EBFA;\n",
              "      --hover-fill-color: #174EA6;\n",
              "      --disabled-fill-color: #AAA;\n",
              "      --disabled-bg-color: #DDD;\n",
              "  }\n",
              "\n",
              "  [theme=dark] .colab-df-quickchart {\n",
              "      --bg-color: #3B4455;\n",
              "      --fill-color: #D2E3FC;\n",
              "      --hover-bg-color: #434B5C;\n",
              "      --hover-fill-color: #FFFFFF;\n",
              "      --disabled-bg-color: #3B4455;\n",
              "      --disabled-fill-color: #666;\n",
              "  }\n",
              "\n",
              "  .colab-df-quickchart {\n",
              "    background-color: var(--bg-color);\n",
              "    border: none;\n",
              "    border-radius: 50%;\n",
              "    cursor: pointer;\n",
              "    display: none;\n",
              "    fill: var(--fill-color);\n",
              "    height: 32px;\n",
              "    padding: 0;\n",
              "    width: 32px;\n",
              "  }\n",
              "\n",
              "  .colab-df-quickchart:hover {\n",
              "    background-color: var(--hover-bg-color);\n",
              "    box-shadow: 0 1px 2px rgba(60, 64, 67, 0.3), 0 1px 3px 1px rgba(60, 64, 67, 0.15);\n",
              "    fill: var(--button-hover-fill-color);\n",
              "  }\n",
              "\n",
              "  .colab-df-quickchart-complete:disabled,\n",
              "  .colab-df-quickchart-complete:disabled:hover {\n",
              "    background-color: var(--disabled-bg-color);\n",
              "    fill: var(--disabled-fill-color);\n",
              "    box-shadow: none;\n",
              "  }\n",
              "\n",
              "  .colab-df-spinner {\n",
              "    border: 2px solid var(--fill-color);\n",
              "    border-color: transparent;\n",
              "    border-bottom-color: var(--fill-color);\n",
              "    animation:\n",
              "      spin 1s steps(1) infinite;\n",
              "  }\n",
              "\n",
              "  @keyframes spin {\n",
              "    0% {\n",
              "      border-color: transparent;\n",
              "      border-bottom-color: var(--fill-color);\n",
              "      border-left-color: var(--fill-color);\n",
              "    }\n",
              "    20% {\n",
              "      border-color: transparent;\n",
              "      border-left-color: var(--fill-color);\n",
              "      border-top-color: var(--fill-color);\n",
              "    }\n",
              "    30% {\n",
              "      border-color: transparent;\n",
              "      border-left-color: var(--fill-color);\n",
              "      border-top-color: var(--fill-color);\n",
              "      border-right-color: var(--fill-color);\n",
              "    }\n",
              "    40% {\n",
              "      border-color: transparent;\n",
              "      border-right-color: var(--fill-color);\n",
              "      border-top-color: var(--fill-color);\n",
              "    }\n",
              "    60% {\n",
              "      border-color: transparent;\n",
              "      border-right-color: var(--fill-color);\n",
              "    }\n",
              "    80% {\n",
              "      border-color: transparent;\n",
              "      border-right-color: var(--fill-color);\n",
              "      border-bottom-color: var(--fill-color);\n",
              "    }\n",
              "    90% {\n",
              "      border-color: transparent;\n",
              "      border-bottom-color: var(--fill-color);\n",
              "    }\n",
              "  }\n",
              "</style>\n",
              "\n",
              "  <script>\n",
              "    async function quickchart(key) {\n",
              "      const quickchartButtonEl =\n",
              "        document.querySelector('#' + key + ' button');\n",
              "      quickchartButtonEl.disabled = true;  // To prevent multiple clicks.\n",
              "      quickchartButtonEl.classList.add('colab-df-spinner');\n",
              "      try {\n",
              "        const charts = await google.colab.kernel.invokeFunction(\n",
              "            'suggestCharts', [key], {});\n",
              "      } catch (error) {\n",
              "        console.error('Error during call to suggestCharts:', error);\n",
              "      }\n",
              "      quickchartButtonEl.classList.remove('colab-df-spinner');\n",
              "      quickchartButtonEl.classList.add('colab-df-quickchart-complete');\n",
              "    }\n",
              "    (() => {\n",
              "      let quickchartButtonEl =\n",
              "        document.querySelector('#df-ef326844-3bce-4002-8de3-0dec252aff67 button');\n",
              "      quickchartButtonEl.style.display =\n",
              "        google.colab.kernel.accessAllowed ? 'block' : 'none';\n",
              "    })();\n",
              "  </script>\n",
              "</div>\n",
              "\n",
              "    </div>\n",
              "  </div>\n"
            ]
          },
          "metadata": {},
          "execution_count": 10
        }
      ]
    },
    {
      "cell_type": "code",
      "source": [
        "def clean_row(row):\n",
        "    ozet = clean_text(row[\"ozet\"])\n",
        "    return ozet"
      ],
      "metadata": {
        "id": "UBENS8zyQSNj"
      },
      "execution_count": null,
      "outputs": []
    },
    {
      "cell_type": "code",
      "source": [
        "clean_row(df.iloc[1])"
      ],
      "metadata": {
        "colab": {
          "base_uri": "https://localhost:8080/",
          "height": 105
        },
        "id": "H5dXyhkaRovL",
        "outputId": "e876c436-9563-4a73-b227-84afabed396e"
      },
      "execution_count": null,
      "outputs": [
        {
          "output_type": "execute_result",
          "data": {
            "text/plain": [
              "'yazar karar kıl kadar boks antrenörlük ressam ve heykeltıraş model yap muz plantasyon hamallık gece kulüp garsonluk kadar çeşit iş çalış jose mauro de vasconcelos başyapıt şeker portakal gün biri acı keşfet küçük bir çocuk öykü dür çok yoksul bir aile oğul ol dünya gel dokuz yaş yüz öğren bir gün yüz şampiyon ol hayal kur vasconcelos çocukluk derin izle taşı şeker portakal yaşam bekle değişim karşı büyük sarsıntı yaşa küçük zezenin baş geçen anlat vasconcelos tam on iki gün yaz bu roman yirmi yıl fazla bir zaman yürek taşı söyle aydın emeçin güzel türkçe dil armağan et şeker portakal başkahraman zezenin büyü yaşa serüven yazar güneş uyan ve delifişek ad roman izle'"
            ],
            "application/vnd.google.colaboratory.intrinsic+json": {
              "type": "string"
            }
          },
          "metadata": {},
          "execution_count": 12
        }
      ]
    },
    {
      "cell_type": "code",
      "source": [
        "df[\"clean\"] = df.apply(lambda row: clean_row(row), axis=1)\n",
        "df.head()"
      ],
      "metadata": {
        "colab": {
          "base_uri": "https://localhost:8080/",
          "height": 206
        },
        "id": "QVSxuP47R4e4",
        "outputId": "83b534db-df64-46a7-d785-152b97758bf6"
      },
      "execution_count": null,
      "outputs": [
        {
          "output_type": "execute_result",
          "data": {
            "text/plain": [
              "                   kitap_adi  \\\n",
              "0  1. Kürk Mantolu Madonna\\n   \n",
              "1       2. Şeker Portakalı\\n   \n",
              "2       4. Hayvan Çiftliği\\n   \n",
              "3               5. Satranç\\n   \n",
              "4               6. Simyacı\\n   \n",
              "\n",
              "                                                ozet  \\\n",
              "0  \"Her gün, daima öğleden sonra oraya gidiyor, k...   \n",
              "1  Yazarlıkta karar kılıncaya kadar, boks antrenö...   \n",
              "2  İngiliz yazar George Orwell (1903-1950), ülkem...   \n",
              "3  Satranç sonsuz eski, ama aynı zamanda sonrasız...   \n",
              "4  Simyacı, dünyaca ünlü Brezilyalı yazar Paulo C...   \n",
              "\n",
              "                                               clean  \n",
              "0  her gün daima öğle sonra ora git koridor resim...  \n",
              "1  yazar karar kıl kadar boks antrenörlük ressam ...  \n",
              "2  ingiliz yazar george orwell ülke daha çok bind...  \n",
              "3  satranç son eski ama aynı zaman sonra yeni kur...  \n",
              "4  simyacı dünya ünlü brezilya yazar paulo coelho...  "
            ],
            "text/html": [
              "\n",
              "  <div id=\"df-239eb2ec-de71-480e-9666-5ae54c549adc\" class=\"colab-df-container\">\n",
              "    <div>\n",
              "<style scoped>\n",
              "    .dataframe tbody tr th:only-of-type {\n",
              "        vertical-align: middle;\n",
              "    }\n",
              "\n",
              "    .dataframe tbody tr th {\n",
              "        vertical-align: top;\n",
              "    }\n",
              "\n",
              "    .dataframe thead th {\n",
              "        text-align: right;\n",
              "    }\n",
              "</style>\n",
              "<table border=\"1\" class=\"dataframe\">\n",
              "  <thead>\n",
              "    <tr style=\"text-align: right;\">\n",
              "      <th></th>\n",
              "      <th>kitap_adi</th>\n",
              "      <th>ozet</th>\n",
              "      <th>clean</th>\n",
              "    </tr>\n",
              "  </thead>\n",
              "  <tbody>\n",
              "    <tr>\n",
              "      <th>0</th>\n",
              "      <td>1. Kürk Mantolu Madonna\\n</td>\n",
              "      <td>\"Her gün, daima öğleden sonra oraya gidiyor, k...</td>\n",
              "      <td>her gün daima öğle sonra ora git koridor resim...</td>\n",
              "    </tr>\n",
              "    <tr>\n",
              "      <th>1</th>\n",
              "      <td>2. Şeker Portakalı\\n</td>\n",
              "      <td>Yazarlıkta karar kılıncaya kadar, boks antrenö...</td>\n",
              "      <td>yazar karar kıl kadar boks antrenörlük ressam ...</td>\n",
              "    </tr>\n",
              "    <tr>\n",
              "      <th>2</th>\n",
              "      <td>4. Hayvan Çiftliği\\n</td>\n",
              "      <td>İngiliz yazar George Orwell (1903-1950), ülkem...</td>\n",
              "      <td>ingiliz yazar george orwell ülke daha çok bind...</td>\n",
              "    </tr>\n",
              "    <tr>\n",
              "      <th>3</th>\n",
              "      <td>5. Satranç\\n</td>\n",
              "      <td>Satranç sonsuz eski, ama aynı zamanda sonrasız...</td>\n",
              "      <td>satranç son eski ama aynı zaman sonra yeni kur...</td>\n",
              "    </tr>\n",
              "    <tr>\n",
              "      <th>4</th>\n",
              "      <td>6. Simyacı\\n</td>\n",
              "      <td>Simyacı, dünyaca ünlü Brezilyalı yazar Paulo C...</td>\n",
              "      <td>simyacı dünya ünlü brezilya yazar paulo coelho...</td>\n",
              "    </tr>\n",
              "  </tbody>\n",
              "</table>\n",
              "</div>\n",
              "    <div class=\"colab-df-buttons\">\n",
              "\n",
              "  <div class=\"colab-df-container\">\n",
              "    <button class=\"colab-df-convert\" onclick=\"convertToInteractive('df-239eb2ec-de71-480e-9666-5ae54c549adc')\"\n",
              "            title=\"Convert this dataframe to an interactive table.\"\n",
              "            style=\"display:none;\">\n",
              "\n",
              "  <svg xmlns=\"http://www.w3.org/2000/svg\" height=\"24px\" viewBox=\"0 -960 960 960\">\n",
              "    <path d=\"M120-120v-720h720v720H120Zm60-500h600v-160H180v160Zm220 220h160v-160H400v160Zm0 220h160v-160H400v160ZM180-400h160v-160H180v160Zm440 0h160v-160H620v160ZM180-180h160v-160H180v160Zm440 0h160v-160H620v160Z\"/>\n",
              "  </svg>\n",
              "    </button>\n",
              "\n",
              "  <style>\n",
              "    .colab-df-container {\n",
              "      display:flex;\n",
              "      gap: 12px;\n",
              "    }\n",
              "\n",
              "    .colab-df-convert {\n",
              "      background-color: #E8F0FE;\n",
              "      border: none;\n",
              "      border-radius: 50%;\n",
              "      cursor: pointer;\n",
              "      display: none;\n",
              "      fill: #1967D2;\n",
              "      height: 32px;\n",
              "      padding: 0 0 0 0;\n",
              "      width: 32px;\n",
              "    }\n",
              "\n",
              "    .colab-df-convert:hover {\n",
              "      background-color: #E2EBFA;\n",
              "      box-shadow: 0px 1px 2px rgba(60, 64, 67, 0.3), 0px 1px 3px 1px rgba(60, 64, 67, 0.15);\n",
              "      fill: #174EA6;\n",
              "    }\n",
              "\n",
              "    .colab-df-buttons div {\n",
              "      margin-bottom: 4px;\n",
              "    }\n",
              "\n",
              "    [theme=dark] .colab-df-convert {\n",
              "      background-color: #3B4455;\n",
              "      fill: #D2E3FC;\n",
              "    }\n",
              "\n",
              "    [theme=dark] .colab-df-convert:hover {\n",
              "      background-color: #434B5C;\n",
              "      box-shadow: 0px 1px 3px 1px rgba(0, 0, 0, 0.15);\n",
              "      filter: drop-shadow(0px 1px 2px rgba(0, 0, 0, 0.3));\n",
              "      fill: #FFFFFF;\n",
              "    }\n",
              "  </style>\n",
              "\n",
              "    <script>\n",
              "      const buttonEl =\n",
              "        document.querySelector('#df-239eb2ec-de71-480e-9666-5ae54c549adc button.colab-df-convert');\n",
              "      buttonEl.style.display =\n",
              "        google.colab.kernel.accessAllowed ? 'block' : 'none';\n",
              "\n",
              "      async function convertToInteractive(key) {\n",
              "        const element = document.querySelector('#df-239eb2ec-de71-480e-9666-5ae54c549adc');\n",
              "        const dataTable =\n",
              "          await google.colab.kernel.invokeFunction('convertToInteractive',\n",
              "                                                    [key], {});\n",
              "        if (!dataTable) return;\n",
              "\n",
              "        const docLinkHtml = 'Like what you see? Visit the ' +\n",
              "          '<a target=\"_blank\" href=https://colab.research.google.com/notebooks/data_table.ipynb>data table notebook</a>'\n",
              "          + ' to learn more about interactive tables.';\n",
              "        element.innerHTML = '';\n",
              "        dataTable['output_type'] = 'display_data';\n",
              "        await google.colab.output.renderOutput(dataTable, element);\n",
              "        const docLink = document.createElement('div');\n",
              "        docLink.innerHTML = docLinkHtml;\n",
              "        element.appendChild(docLink);\n",
              "      }\n",
              "    </script>\n",
              "  </div>\n",
              "\n",
              "\n",
              "<div id=\"df-3658fa23-e0ef-4921-ae0d-54e781279d15\">\n",
              "  <button class=\"colab-df-quickchart\" onclick=\"quickchart('df-3658fa23-e0ef-4921-ae0d-54e781279d15')\"\n",
              "            title=\"Suggest charts\"\n",
              "            style=\"display:none;\">\n",
              "\n",
              "<svg xmlns=\"http://www.w3.org/2000/svg\" height=\"24px\"viewBox=\"0 0 24 24\"\n",
              "     width=\"24px\">\n",
              "    <g>\n",
              "        <path d=\"M19 3H5c-1.1 0-2 .9-2 2v14c0 1.1.9 2 2 2h14c1.1 0 2-.9 2-2V5c0-1.1-.9-2-2-2zM9 17H7v-7h2v7zm4 0h-2V7h2v10zm4 0h-2v-4h2v4z\"/>\n",
              "    </g>\n",
              "</svg>\n",
              "  </button>\n",
              "\n",
              "<style>\n",
              "  .colab-df-quickchart {\n",
              "      --bg-color: #E8F0FE;\n",
              "      --fill-color: #1967D2;\n",
              "      --hover-bg-color: #E2EBFA;\n",
              "      --hover-fill-color: #174EA6;\n",
              "      --disabled-fill-color: #AAA;\n",
              "      --disabled-bg-color: #DDD;\n",
              "  }\n",
              "\n",
              "  [theme=dark] .colab-df-quickchart {\n",
              "      --bg-color: #3B4455;\n",
              "      --fill-color: #D2E3FC;\n",
              "      --hover-bg-color: #434B5C;\n",
              "      --hover-fill-color: #FFFFFF;\n",
              "      --disabled-bg-color: #3B4455;\n",
              "      --disabled-fill-color: #666;\n",
              "  }\n",
              "\n",
              "  .colab-df-quickchart {\n",
              "    background-color: var(--bg-color);\n",
              "    border: none;\n",
              "    border-radius: 50%;\n",
              "    cursor: pointer;\n",
              "    display: none;\n",
              "    fill: var(--fill-color);\n",
              "    height: 32px;\n",
              "    padding: 0;\n",
              "    width: 32px;\n",
              "  }\n",
              "\n",
              "  .colab-df-quickchart:hover {\n",
              "    background-color: var(--hover-bg-color);\n",
              "    box-shadow: 0 1px 2px rgba(60, 64, 67, 0.3), 0 1px 3px 1px rgba(60, 64, 67, 0.15);\n",
              "    fill: var(--button-hover-fill-color);\n",
              "  }\n",
              "\n",
              "  .colab-df-quickchart-complete:disabled,\n",
              "  .colab-df-quickchart-complete:disabled:hover {\n",
              "    background-color: var(--disabled-bg-color);\n",
              "    fill: var(--disabled-fill-color);\n",
              "    box-shadow: none;\n",
              "  }\n",
              "\n",
              "  .colab-df-spinner {\n",
              "    border: 2px solid var(--fill-color);\n",
              "    border-color: transparent;\n",
              "    border-bottom-color: var(--fill-color);\n",
              "    animation:\n",
              "      spin 1s steps(1) infinite;\n",
              "  }\n",
              "\n",
              "  @keyframes spin {\n",
              "    0% {\n",
              "      border-color: transparent;\n",
              "      border-bottom-color: var(--fill-color);\n",
              "      border-left-color: var(--fill-color);\n",
              "    }\n",
              "    20% {\n",
              "      border-color: transparent;\n",
              "      border-left-color: var(--fill-color);\n",
              "      border-top-color: var(--fill-color);\n",
              "    }\n",
              "    30% {\n",
              "      border-color: transparent;\n",
              "      border-left-color: var(--fill-color);\n",
              "      border-top-color: var(--fill-color);\n",
              "      border-right-color: var(--fill-color);\n",
              "    }\n",
              "    40% {\n",
              "      border-color: transparent;\n",
              "      border-right-color: var(--fill-color);\n",
              "      border-top-color: var(--fill-color);\n",
              "    }\n",
              "    60% {\n",
              "      border-color: transparent;\n",
              "      border-right-color: var(--fill-color);\n",
              "    }\n",
              "    80% {\n",
              "      border-color: transparent;\n",
              "      border-right-color: var(--fill-color);\n",
              "      border-bottom-color: var(--fill-color);\n",
              "    }\n",
              "    90% {\n",
              "      border-color: transparent;\n",
              "      border-bottom-color: var(--fill-color);\n",
              "    }\n",
              "  }\n",
              "</style>\n",
              "\n",
              "  <script>\n",
              "    async function quickchart(key) {\n",
              "      const quickchartButtonEl =\n",
              "        document.querySelector('#' + key + ' button');\n",
              "      quickchartButtonEl.disabled = true;  // To prevent multiple clicks.\n",
              "      quickchartButtonEl.classList.add('colab-df-spinner');\n",
              "      try {\n",
              "        const charts = await google.colab.kernel.invokeFunction(\n",
              "            'suggestCharts', [key], {});\n",
              "      } catch (error) {\n",
              "        console.error('Error during call to suggestCharts:', error);\n",
              "      }\n",
              "      quickchartButtonEl.classList.remove('colab-df-spinner');\n",
              "      quickchartButtonEl.classList.add('colab-df-quickchart-complete');\n",
              "    }\n",
              "    (() => {\n",
              "      let quickchartButtonEl =\n",
              "        document.querySelector('#df-3658fa23-e0ef-4921-ae0d-54e781279d15 button');\n",
              "      quickchartButtonEl.style.display =\n",
              "        google.colab.kernel.accessAllowed ? 'block' : 'none';\n",
              "    })();\n",
              "  </script>\n",
              "</div>\n",
              "\n",
              "    </div>\n",
              "  </div>\n"
            ]
          },
          "metadata": {},
          "execution_count": 13
        }
      ]
    },
    {
      "cell_type": "code",
      "source": [
        "kitaplar = df[\"clean\"].values\n"
      ],
      "metadata": {
        "id": "qinVV2hSR-Fh"
      },
      "execution_count": null,
      "outputs": []
    },
    {
      "cell_type": "code",
      "source": [
        "word2idx = {}\n",
        "i = 0\n",
        "\n",
        "for kitap in kitaplar:\n",
        "    for sozcuk in kitap.split():\n",
        "        if sozcuk not in word2idx:\n",
        "            word2idx[sozcuk] = i\n",
        "            i += 1"
      ],
      "metadata": {
        "id": "hmIreQdqR-Jy"
      },
      "execution_count": null,
      "outputs": []
    },
    {
      "cell_type": "code",
      "source": [
        "kitap_sayisi = len(kitaplar)\n",
        "sozluk_buyuklugu = len(word2idx)\n",
        "\n",
        "print(kitap_sayisi, sozluk_buyuklugu)"
      ],
      "metadata": {
        "colab": {
          "base_uri": "https://localhost:8080/"
        },
        "id": "iPUIOxJ9R-Mx",
        "outputId": "7334d30b-fd2c-4761-a981-120df3e94480"
      },
      "execution_count": null,
      "outputs": [
        {
          "output_type": "stream",
          "name": "stdout",
          "text": [
            "1375 12947\n"
          ]
        }
      ]
    },
    {
      "cell_type": "code",
      "source": [
        "tf = np.zeros((kitap_sayisi, sozluk_buyuklugu))\n",
        "\n",
        "for i, kitap in enumerate(kitaplar):\n",
        "    sozcukler = kitap.split()\n",
        "    for sozcuk in sozcukler:\n",
        "        tf[i, word2idx[sozcuk]] += 1 # sözcük sayma\n",
        "\n",
        "    tf[i] = tf[i] / len(sozcukler) # normalizasyon\n",
        "\n",
        "print(tf[0])"
      ],
      "metadata": {
        "colab": {
          "base_uri": "https://localhost:8080/"
        },
        "id": "ldZERAwaSnyJ",
        "outputId": "6ac20759-ce25-45a4-a1f3-91205a42e6b4"
      },
      "execution_count": null,
      "outputs": [
        {
          "output_type": "stream",
          "name": "stdout",
          "text": [
            "[0.01123596 0.01123596 0.01123596 ... 0.         0.         0.        ]\n"
          ]
        }
      ]
    },
    {
      "cell_type": "code",
      "source": [
        "doc_freq = np.sum(tf > 0, axis=0)\n",
        "print(doc_freq)\n",
        "\n",
        "idf = np.log(kitap_sayisi / doc_freq)\n",
        "print(idf)"
      ],
      "metadata": {
        "colab": {
          "base_uri": "https://localhost:8080/"
        },
        "id": "s95VYo4sStWr",
        "outputId": "7235266a-93a7-4541-c722-60f08e193ea4"
      },
      "execution_count": null,
      "outputs": [
        {
          "output_type": "stream",
          "name": "stdout",
          "text": [
            "[517 411  18 ...   1   1   1]\n",
            "[0.97816614 1.2076158  4.33583725 ... 7.22620901 7.22620901 7.22620901]\n"
          ]
        }
      ]
    },
    {
      "cell_type": "code",
      "source": [
        "tf_idf = tf * idf"
      ],
      "metadata": {
        "id": "B2jqOx1pStZb"
      },
      "execution_count": null,
      "outputs": []
    },
    {
      "cell_type": "code",
      "source": [
        "def cos_sim(v1, v2):\n",
        "    return np.dot(v1, v2) / (np.linalg.norm(v1) * np.linalg.norm(v2))"
      ],
      "metadata": {
        "id": "xY3JTYnTStfb"
      },
      "execution_count": null,
      "outputs": []
    },
    {
      "cell_type": "code",
      "source": [
        "def kitap2str(row_index):\n",
        "    kitap = df.iloc[row_index]\n",
        "    adi = kitap[\"kitap_adi\"]\n",
        "    ozet = re.sub(r\"\\n+\", \"\\n\", kitap[\"ozet\"]).strip()\n",
        "    if len(ozet) > 200:\n",
        "        ozet = ozet[:200] + \"...\"\n",
        "\n",
        "    return f\"Kitap adı: {adi} \\nÖzeti: {ozet}\"\n",
        "\n",
        "\n",
        "print(kitap2str(3))"
      ],
      "metadata": {
        "colab": {
          "base_uri": "https://localhost:8080/"
        },
        "id": "6JtwCrkeS3bL",
        "outputId": "fb90bab1-a46b-47e2-d0d8-bac9d0e3abc4"
      },
      "execution_count": null,
      "outputs": [
        {
          "output_type": "stream",
          "name": "stdout",
          "text": [
            "Kitap adı: 5. Satranç\n",
            " \n",
            "Özeti: Satranç sonsuz eski, ama aynı zamanda sonrasız yenidir; kuruluşu mekanik, ancak sadece hayalgücü ile etkilidir; geometrik açıdan sabit bir alanla sınırlı olmakla birlikte kombinasyonlarında sınırsızdı...\n"
          ]
        }
      ]
    },
    {
      "cell_type": "code",
      "source": [
        "def benzerlerini_bul(kitap_adi, benzer_kitap_sayisi):\n",
        "    kitap_indexi = df[df[\"kitap_adi\"] == kitap_adi].index[0]\n",
        "    print(\"Aranan Kitap:\")\n",
        "    print(kitap2str(kitap_indexi))\n",
        "    print()\n",
        "    print(\"* \" * 30)\n",
        "    print()\n",
        "\n",
        "    benzerlikler = []\n",
        "    sorgu_kitap = tf_idf[kitap_indexi]\n",
        "    for vec in tf_idf:\n",
        "        benzerlik = cos_sim(sorgu_kitap, vec)\n",
        "        benzerlikler.append(benzerlik)\n",
        "\n",
        "    en_benzer_kitap_indexleri = (- np.array(benzerlikler)\n",
        "                                ).argsort()[:benzer_kitap_sayisi + 1]\n",
        "    print(\"Benzer Kitaplar:\\n\")\n",
        "    for i, kitap_idx in enumerate(en_benzer_kitap_indexleri[1:]):\n",
        "        print(str(i+1) + \") \" + kitap2str(kitap_idx))\n",
        "        print()\n",
        "        print(\"- \" * 20)\n",
        "        print()"
      ],
      "metadata": {
        "id": "4U0z1zwhS3dp"
      },
      "execution_count": null,
      "outputs": []
    },
    {
      "cell_type": "code",
      "source": [
        "benzerlerini_bul(\"103. Nutuk\\n\", 3)"
      ],
      "metadata": {
        "colab": {
          "base_uri": "https://localhost:8080/"
        },
        "id": "Dk8aoSqKS3gJ",
        "outputId": "797a20e8-7112-45ae-e06b-24ee75bdaa05"
      },
      "execution_count": null,
      "outputs": [
        {
          "output_type": "stream",
          "name": "stdout",
          "text": [
            "Aranan Kitap:\n",
            "Kitap adı: 103. Nutuk\n",
            " \n",
            "Özeti: Muhterem Efendiler, sizi, günlerce işgal eden, uzun ve teferruatlı beyanatım, en nihayet, mazi olmuş bir devrin hikâyesidir. Bunda, milletim için ve müstakbel evlâtlarımız için dikkat ve teyakkuzu dav...\n",
            "\n",
            "* * * * * * * * * * * * * * * * * * * * * * * * * * * * * * \n",
            "\n",
            "Benzer Kitaplar:\n",
            "\n",
            "1) Kitap adı: 714. Safahat\n",
            " \n",
            "Özeti: Halkının içinden yükselmiş, ama halkın içinde kalmış bir şair; kendi milleti kadar, Doğu'yu ve Batı'yı dili, edebiyatı ve müziği ile bilen bir aydın; Veterinerlik Fakültesi'nin ilk öğrencisi ve birinc...\n",
            "\n",
            "- - - - - - - - - - - - - - - - - - - - \n",
            "\n",
            "2) Kitap adı: 832. Türkçülüğün Esasları\n",
            " \n",
            "Özeti: Türk düşünce, kültür ve siyaset tarihinin önemli simalarından olan Ziya Gökalp, Türkçülüğün Esasları adlı eseriyle “Türk milletindenim” demenin ne demek olduğunu, Türk milletinin kim olduğunu, nereden...\n",
            "\n",
            "- - - - - - - - - - - - - - - - - - - - \n",
            "\n",
            "3) Kitap adı: 293. Gazi Mustafa Kemal Atatürk\n",
            " \n",
            "Özeti: “Tarihin akışını değiştiren, ona mührünü vuran veya büyük tehlikelere mâni olan liderlere her memlekette rastlamak mümkün değildir. Atatürk dünya tarihinin nadiren gördüğü bir dehadır. Birinci Dünya S...\n",
            "\n",
            "- - - - - - - - - - - - - - - - - - - - \n",
            "\n"
          ]
        }
      ]
    },
    {
      "cell_type": "code",
      "source": [],
      "metadata": {
        "id": "bTDswCUxS3ip"
      },
      "execution_count": null,
      "outputs": []
    }
  ]
}